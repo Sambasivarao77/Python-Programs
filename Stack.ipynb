{
  "nbformat": 4,
  "nbformat_minor": 0,
  "metadata": {
    "colab": {
      "name": "Stack.ipynb",
      "provenance": [],
      "authorship_tag": "ABX9TyP7frofOL196mro90Q+tMR5",
      "include_colab_link": true
    },
    "kernelspec": {
      "name": "python3",
      "display_name": "Python 3"
    },
    "language_info": {
      "name": "python"
    }
  },
  "cells": [
    {
      "cell_type": "markdown",
      "metadata": {
        "id": "view-in-github",
        "colab_type": "text"
      },
      "source": [
        "<a href=\"https://colab.research.google.com/github/Sambasivarao77/Python-Programs/blob/main/Stack.ipynb\" target=\"_parent\"><img src=\"https://colab.research.google.com/assets/colab-badge.svg\" alt=\"Open In Colab\"/></a>"
      ]
    },
    {
      "cell_type": "code",
      "metadata": {
        "id": "GdSegP9V_VND"
      },
      "source": [
        "stack = list()\n",
        "stack.append(\"1\")\n",
        "stack.append(\"2\")\n",
        "stack.append(\"3\")\n",
        "stack.append(\"4\")"
      ],
      "execution_count": 4,
      "outputs": []
    },
    {
      "cell_type": "code",
      "metadata": {
        "colab": {
          "base_uri": "https://localhost:8080/"
        },
        "id": "Zv29qehH_juw",
        "outputId": "f951791d-214b-4ed6-c3f1-a782419c6f9d"
      },
      "source": [
        "print(stack)"
      ],
      "execution_count": 5,
      "outputs": [
        {
          "output_type": "stream",
          "text": [
            "['1', '2', '3', '4']\n"
          ],
          "name": "stdout"
        }
      ]
    },
    {
      "cell_type": "code",
      "metadata": {
        "colab": {
          "base_uri": "https://localhost:8080/",
          "height": 36
        },
        "id": "SjhjYiGL_mYW",
        "outputId": "cd2fac6a-173b-47a9-c5c1-bc6973d88737"
      },
      "source": [
        "stack.pop()"
      ],
      "execution_count": 6,
      "outputs": [
        {
          "output_type": "execute_result",
          "data": {
            "application/vnd.google.colaboratory.intrinsic+json": {
              "type": "string"
            },
            "text/plain": [
              "'4'"
            ]
          },
          "metadata": {
            "tags": []
          },
          "execution_count": 6
        }
      ]
    },
    {
      "cell_type": "code",
      "metadata": {
        "colab": {
          "base_uri": "https://localhost:8080/"
        },
        "id": "UMeprqX7_02X",
        "outputId": "37d163fe-eb49-40eb-ca39-688fa69330c7"
      },
      "source": [
        "print(stack)"
      ],
      "execution_count": 7,
      "outputs": [
        {
          "output_type": "stream",
          "text": [
            "['1', '2', '3']\n"
          ],
          "name": "stdout"
        }
      ]
    },
    {
      "cell_type": "markdown",
      "metadata": {
        "id": "VG7ipO6N_5ZS"
      },
      "source": [
        "The issue with using a list as a stack is that list uses dymanic array internally and when it reaches its capacity it will reallocate a big chunk of memory somewhere else in memory area and copy all the elements. For example in below diagram if a list has a capacity of 10 and we try to insert 11th element, it will not allocate new memory in a different memory region, copy all 10 elements and then insert the 11th element. So overhead here is (1) allocate new memory plus (2) copy all existing elements in new memory area\n",
        "\n"
      ]
    },
    {
      "cell_type": "markdown",
      "metadata": {
        "id": "fB4SD3aLAQ4c"
      },
      "source": [
        "So using deque from collection is recommended as deque is implemented with doublyLinkedList"
      ]
    },
    {
      "cell_type": "code",
      "metadata": {
        "colab": {
          "base_uri": "https://localhost:8080/"
        },
        "id": "doak3smSAjnN",
        "outputId": "95150c75-124c-49e8-f2a7-e28a70de99d4"
      },
      "source": [
        "from collections import deque\n",
        "stack = deque()\n",
        "dir(stack)"
      ],
      "execution_count": 8,
      "outputs": [
        {
          "output_type": "execute_result",
          "data": {
            "text/plain": [
              "['__add__',\n",
              " '__bool__',\n",
              " '__class__',\n",
              " '__contains__',\n",
              " '__copy__',\n",
              " '__delattr__',\n",
              " '__delitem__',\n",
              " '__dir__',\n",
              " '__doc__',\n",
              " '__eq__',\n",
              " '__format__',\n",
              " '__ge__',\n",
              " '__getattribute__',\n",
              " '__getitem__',\n",
              " '__gt__',\n",
              " '__hash__',\n",
              " '__iadd__',\n",
              " '__imul__',\n",
              " '__init__',\n",
              " '__init_subclass__',\n",
              " '__iter__',\n",
              " '__le__',\n",
              " '__len__',\n",
              " '__lt__',\n",
              " '__mul__',\n",
              " '__ne__',\n",
              " '__new__',\n",
              " '__reduce__',\n",
              " '__reduce_ex__',\n",
              " '__repr__',\n",
              " '__reversed__',\n",
              " '__rmul__',\n",
              " '__setattr__',\n",
              " '__setitem__',\n",
              " '__sizeof__',\n",
              " '__str__',\n",
              " '__subclasshook__',\n",
              " 'append',\n",
              " 'appendleft',\n",
              " 'clear',\n",
              " 'copy',\n",
              " 'count',\n",
              " 'extend',\n",
              " 'extendleft',\n",
              " 'index',\n",
              " 'insert',\n",
              " 'maxlen',\n",
              " 'pop',\n",
              " 'popleft',\n",
              " 'remove',\n",
              " 'reverse',\n",
              " 'rotate']"
            ]
          },
          "metadata": {
            "tags": []
          },
          "execution_count": 8
        }
      ]
    },
    {
      "cell_type": "code",
      "metadata": {
        "id": "vo7nIMROArjN"
      },
      "source": [
        "stack.append('1')\n",
        "stack.append('2')\n",
        "stack.append('3')\n",
        "stack.append('4')"
      ],
      "execution_count": 9,
      "outputs": []
    },
    {
      "cell_type": "code",
      "metadata": {
        "colab": {
          "base_uri": "https://localhost:8080/"
        },
        "id": "N-tACbE3AxPc",
        "outputId": "bd7c67c1-d07b-4a72-9d63-83a27ab84508"
      },
      "source": [
        "print(stack)"
      ],
      "execution_count": 11,
      "outputs": [
        {
          "output_type": "stream",
          "text": [
            "deque(['1', '2', '3', '4'])\n"
          ],
          "name": "stdout"
        }
      ]
    },
    {
      "cell_type": "code",
      "metadata": {
        "colab": {
          "base_uri": "https://localhost:8080/",
          "height": 36
        },
        "id": "pl7PS2MvAzRj",
        "outputId": "d5b8357f-a169-40f0-b22b-5187fb4185a3"
      },
      "source": [
        "stack.pop()"
      ],
      "execution_count": 12,
      "outputs": [
        {
          "output_type": "execute_result",
          "data": {
            "application/vnd.google.colaboratory.intrinsic+json": {
              "type": "string"
            },
            "text/plain": [
              "'4'"
            ]
          },
          "metadata": {
            "tags": []
          },
          "execution_count": 12
        }
      ]
    },
    {
      "cell_type": "code",
      "metadata": {
        "colab": {
          "base_uri": "https://localhost:8080/"
        },
        "id": "LZ5Y1kVQA1EE",
        "outputId": "24b03b13-7839-4de8-a6b0-d627e9431a8f"
      },
      "source": [
        "print(stack)"
      ],
      "execution_count": 14,
      "outputs": [
        {
          "output_type": "stream",
          "text": [
            "deque(['1', '2', '3'])\n"
          ],
          "name": "stdout"
        }
      ]
    },
    {
      "cell_type": "markdown",
      "metadata": {
        "id": "AmWwAgJACHOl"
      },
      "source": [
        "**Exercise**"
      ]
    },
    {
      "cell_type": "code",
      "metadata": {
        "colab": {
          "base_uri": "https://localhost:8080/",
          "height": 36
        },
        "id": "woaGwPeACKri",
        "outputId": "90b2cb4c-47d7-4f70-8dfe-c0fec35bc284"
      },
      "source": [
        "\n",
        "\n",
        "class Stack:\n",
        "    def __init__(self):\n",
        "        self.container = deque()\n",
        "    \n",
        "    def push(self,val):\n",
        "        self.container.append(val)\n",
        "        \n",
        "    def pop(self):\n",
        "        return self.container.pop()\n",
        "    \n",
        "    def peek(self):\n",
        "        return  self.container[-1]\n",
        "    \n",
        "    def is_empty(self):\n",
        "        return len(self.container)==0\n",
        "    \n",
        "    def size(self):\n",
        "        return len(self.container)\n",
        "    \n",
        "    def reverse_string(self,str):\n",
        "      for letter in str:\n",
        "        self.push(letter)\n",
        "      strr = \"\"\n",
        "      while self.is_empty()==False:\n",
        "        strr +=(self.pop())\n",
        "      return strr\n",
        "\n",
        "st = Stack()\n",
        "st.reverse_string(\"We will conquere COVID-19\")"
      ],
      "execution_count": 17,
      "outputs": [
        {
          "output_type": "execute_result",
          "data": {
            "application/vnd.google.colaboratory.intrinsic+json": {
              "type": "string"
            },
            "text/plain": [
              "'91-DIVOC ereuqnoc lliw eW'"
            ]
          },
          "metadata": {
            "tags": []
          },
          "execution_count": 17
        }
      ]
    },
    {
      "cell_type": "markdown",
      "metadata": {
        "id": "dIx4eb9JDirf"
      },
      "source": [
        "Write a function in python that checks if paranthesis in the string are balanced or not. Possible parantheses are \"{}',\"()\" or \"[]\". Use Stack class from the tutorial. \n",
        "```\n",
        "is_balanced(\"({a+b})\")     --> True\n",
        "is_balanced(\"))((a+b}{\")   --> False\n",
        "is_balanced(\"((a+b))\")     --> True\n",
        "is_balanced(\"))\")          --> False\n",
        "is_balanced(\"[a+b]*(x+2y)*{gg+kk}\") --> True\n",
        "```"
      ]
    },
    {
      "cell_type": "markdown",
      "metadata": {
        "id": "xZpK5Ww0D89V"
      },
      "source": [
        ""
      ]
    },
    {
      "cell_type": "code",
      "metadata": {
        "colab": {
          "base_uri": "https://localhost:8080/"
        },
        "id": "A0C_j7XyDjx-",
        "outputId": "fbf759d7-0ad7-45ab-b891-f6287e621f3a"
      },
      "source": [
        "from collections import deque\n",
        "dict = {\n",
        "    \"}\":\"{\",\n",
        "    \")\":\"(\",\n",
        "    \"]\":\"[\"\n",
        "}\n",
        "open_parantheses = \"{([\"\n",
        "close_parantheses = \"})]\"\n",
        "def is_balanced(str):\n",
        "  st = deque()\n",
        "  for letter in str:\n",
        "    if letter in open_parantheses:\n",
        "      st.append(letter)\n",
        "    elif letter in close_parantheses:\n",
        "      if len(st)>0 and dict[letter] == st.pop():\n",
        "        continue\n",
        "      else:\n",
        "        return False\n",
        "    else:\n",
        "      continue\n",
        "  return True\n",
        "\n",
        "\n",
        "print(is_balanced(\"({a+b})\"))    # --> True\n",
        "print(is_balanced(\"))((a+b}{\"))   #--> False\n",
        "print(is_balanced(\"((a+b))\"))     #--> True\n",
        "print(is_balanced(\"))\"))          #--> False\n",
        "print(is_balanced(\"[a+b]*(x+2y)*{gg+kk}\")) #--> True"
      ],
      "execution_count": 26,
      "outputs": [
        {
          "output_type": "stream",
          "text": [
            "True\n",
            "False\n",
            "True\n",
            "False\n",
            "True\n"
          ],
          "name": "stdout"
        }
      ]
    }
  ]
}