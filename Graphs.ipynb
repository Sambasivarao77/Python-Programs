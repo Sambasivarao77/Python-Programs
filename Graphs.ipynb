{
  "nbformat": 4,
  "nbformat_minor": 0,
  "metadata": {
    "colab": {
      "name": "Graphs.ipynb",
      "provenance": [],
      "authorship_tag": "ABX9TyPMTlg2Sx/0M/162TXeWz2F",
      "include_colab_link": true
    },
    "kernelspec": {
      "name": "python3",
      "display_name": "Python 3"
    },
    "language_info": {
      "name": "python"
    }
  },
  "cells": [
    {
      "cell_type": "markdown",
      "metadata": {
        "id": "view-in-github",
        "colab_type": "text"
      },
      "source": [
        "<a href=\"https://colab.research.google.com/github/Sambasivarao77/Python-Programs/blob/main/Graphs.ipynb\" target=\"_parent\"><img src=\"https://colab.research.google.com/assets/colab-badge.svg\" alt=\"Open In Colab\"/></a>"
      ]
    },
    {
      "cell_type": "code",
      "metadata": {
        "colab": {
          "base_uri": "https://localhost:8080/"
        },
        "id": "C_Y4ilOpduiI",
        "outputId": "b8194eb0-11e0-45fb-d62a-0bfb5a5be560"
      },
      "source": [
        "\n",
        "class Graph:\n",
        "    def __init__(self, edges):\n",
        "        self.edges = edges\n",
        "        self.graph_dict = {}\n",
        "        for start, end in edges:\n",
        "            if start in self.graph_dict:\n",
        "                self.graph_dict[start].append(end)\n",
        "            else:\n",
        "                self.graph_dict[start] = [end]\n",
        "        print(\"Graph Dict:\", self.graph_dict)\n",
        "\n",
        "    def get_paths(self, start, end, path=[]):\n",
        "        path = path + [start]\n",
        "\n",
        "        if start == end:\n",
        "            return [path]\n",
        "\n",
        "        if start not in self.graph_dict:\n",
        "            return []\n",
        "\n",
        "        paths = []\n",
        "        for node in self.graph_dict[start]:\n",
        "            if node not in path:\n",
        "                new_paths = self.get_paths(node, end, path)\n",
        "                for p in new_paths:\n",
        "                    paths.append(p)\n",
        "\n",
        "        return paths\n",
        "\n",
        "    def get_shortest_path(self, start, end, path=[]):\n",
        "        path = path + [start]\n",
        "\n",
        "        if start == end:\n",
        "            return path\n",
        "\n",
        "        if start not in self.graph_dict:\n",
        "            return None\n",
        "\n",
        "        shortest_path = None\n",
        "        for node in self.graph_dict[start]:\n",
        "            if node not in path:\n",
        "                sp = self.get_shortest_path(node, end, path)\n",
        "                if sp:\n",
        "                    if shortest_path is None or len(sp) < len(shortest_path):\n",
        "                        shortest_path = sp\n",
        "\n",
        "        return shortest_path\n",
        "\n",
        "if __name__ == '__main__':\n",
        "\n",
        "    routes = [\n",
        "        (\"Mumbai\",\"Pune\"),\n",
        "        (\"Mumbai\", \"Surat\"),\n",
        "        (\"Surat\", \"Bangaluru\"),\n",
        "        (\"Pune\",\"Hyderabad\"),\n",
        "        (\"Pune\",\"Mysuru\"),\n",
        "        (\"Hyderabad\",\"Bangaluru\"),\n",
        "        (\"Hyderabad\", \"Chennai\"),\n",
        "        (\"Mysuru\", \"Bangaluru\"),\n",
        "        (\"Chennai\", \"Bangaluru\")\n",
        "    ]\n",
        "\n",
        "    routes = [\n",
        "        (\"Mumbai\", \"Paris\"),\n",
        "        (\"Mumbai\", \"Dubai\"),\n",
        "        (\"Paris\", \"Dubai\"),\n",
        "        (\"Paris\", \"New York\"),\n",
        "        (\"Dubai\", \"New York\"),\n",
        "        (\"New York\", \"Toronto\"),\n",
        "    ]\n",
        "\n",
        "    route_graph = Graph(routes)\n",
        "\n",
        "    start = \"Mumbai\"\n",
        "    end = \"New York\"\n",
        "\n",
        "    print(f\"All paths between: {start} and {end}: \",route_graph.get_paths(start,end))\n",
        "    print(f\"Shortest path between {start} and {end}: \", route_graph.get_shortest_path(start,end))\n",
        "\n",
        "    start = \"Dubai\"\n",
        "    end = \"New York\"\n",
        "\n",
        "    print(f\"All paths between: {start} and {end}: \",route_graph.get_paths(start,end))\n",
        "    print(f\"Shortest path between {start} and {end}: \", route_graph.get_shortest_path(start,end))"
      ],
      "execution_count": 1,
      "outputs": [
        {
          "output_type": "stream",
          "text": [
            "Graph Dict: {'Mumbai': ['Paris', 'Dubai'], 'Paris': ['Dubai', 'New York'], 'Dubai': ['New York'], 'New York': ['Toronto']}\n",
            "All paths between: Mumbai and New York:  [['Mumbai', 'Paris', 'Dubai', 'New York'], ['Mumbai', 'Paris', 'New York'], ['Mumbai', 'Dubai', 'New York']]\n",
            "Shortest path between Mumbai and New York:  ['Mumbai', 'Paris', 'New York']\n",
            "All paths between: Dubai and New York:  [['Dubai', 'New York']]\n",
            "Shortest path between Dubai and New York:  ['Dubai', 'New York']\n"
          ],
          "name": "stdout"
        }
      ]
    }
  ]
}