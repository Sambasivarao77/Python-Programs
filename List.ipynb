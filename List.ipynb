{
  "nbformat": 4,
  "nbformat_minor": 0,
  "metadata": {
    "colab": {
      "name": "List.ipynb",
      "provenance": [],
      "authorship_tag": "ABX9TyPNjfKQyx7DxnMacHuqFCfX",
      "include_colab_link": true
    },
    "kernelspec": {
      "name": "python3",
      "display_name": "Python 3"
    },
    "language_info": {
      "name": "python"
    }
  },
  "cells": [
    {
      "cell_type": "markdown",
      "metadata": {
        "id": "view-in-github",
        "colab_type": "text"
      },
      "source": [
        "<a href=\"https://colab.research.google.com/github/Sambasivarao77/Python-Programs/blob/main/List.ipynb\" target=\"_parent\"><img src=\"https://colab.research.google.com/assets/colab-badge.svg\" alt=\"Open In Colab\"/></a>"
      ]
    },
    {
      "cell_type": "markdown",
      "metadata": {
        "id": "lX8MCV6CqSLD"
      },
      "source": [
        "\n",
        "    Let us say your expense for every month are listed below,\n",
        "        January - 2200\n",
        "        February - 2350\n",
        "        March - 2600\n",
        "        April - 2130\n",
        "        May - 2190\n",
        "\n",
        "Create a list to store these monthly expenses and using that find out,\n",
        "\n",
        "1. In Feb, how many dollars you spent extra compare to January?\n",
        "2. Find out your total expense in first quarter (first three months) of the year.\n",
        "3. Find out if you spent exactly 2000 dollars in any month\n",
        "4. June month just finished and your expense is 1980 dollar. Add this item to our monthly expense list\n",
        "5. You returned an item that you bought in a month of April and\n",
        "got a refund of 200$. Make a correction to your monthly expense list\n",
        "based on this\n"
      ]
    },
    {
      "cell_type": "code",
      "metadata": {
        "colab": {
          "base_uri": "https://localhost:8080/"
        },
        "id": "yN4Xe7EYqagH",
        "outputId": "6c03340b-9946-45e4-ee17-f3cde4c70e4a"
      },
      "source": [
        "expenses = list(map(int,input(\"Enter all months' expenses :\").split(' ')))\n",
        "print(expenses)\n",
        "\n",
        "print(\"Q1. Ans Feb - Jan => \",expenses[1]-expenses[0])\n",
        "print(\"Q2. jan + feb + mar \", expenses[0]+expenses[1]+expenses[2])\n",
        "amount = int(input(\"Q3 .enter amount to search\"))\n",
        "print(\"Yes\") if amount in expenses else print(\"No\")\n",
        "print(\"Q4 add June\")\n",
        "amount = int(input(\"enter amount to add\"))\n",
        "expenses.append(amount)\n",
        "print(\"latest list : \",expenses)\n",
        "amount , month = map(int,input(\"enter refund amount and month :\").split(' '))\n",
        "expenses[month-1] -= amount\n",
        "print(\"latest list : \",expenses)"
      ],
      "execution_count": 6,
      "outputs": [
        {
          "output_type": "stream",
          "text": [
            "Enter all months' expenses :2200 2350 2600 2130 2190\n",
            "[2200, 2350, 2600, 2130, 2190]\n",
            "Q1. Ans Feb - Jan =>  150\n",
            "Q2. jan + feb + mar  7150\n",
            "Q3 .enter amount to search2350\n",
            "Yes\n",
            "Q4 add June\n",
            "enter amount to add1980\n",
            "latest list :  [2200, 2350, 2600, 2130, 2190, 1980]\n",
            "enter refund amount and month :200 4\n",
            "latest list :  [2200, 2350, 2600, 1930, 2190, 1980]\n"
          ],
          "name": "stdout"
        }
      ]
    }
  ]
}