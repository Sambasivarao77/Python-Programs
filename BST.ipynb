{
  "nbformat": 4,
  "nbformat_minor": 0,
  "metadata": {
    "colab": {
      "name": "BST.ipynb",
      "provenance": [],
      "authorship_tag": "ABX9TyNrQQOYcIMNjDGIScdi0ETb",
      "include_colab_link": true
    },
    "kernelspec": {
      "name": "python3",
      "display_name": "Python 3"
    },
    "language_info": {
      "name": "python"
    }
  },
  "cells": [
    {
      "cell_type": "markdown",
      "metadata": {
        "id": "view-in-github",
        "colab_type": "text"
      },
      "source": [
        "<a href=\"https://colab.research.google.com/github/Sambasivarao77/Python-Programs/blob/main/BST.ipynb\" target=\"_parent\"><img src=\"https://colab.research.google.com/assets/colab-badge.svg\" alt=\"Open In Colab\"/></a>"
      ]
    },
    {
      "cell_type": "markdown",
      "metadata": {
        "id": "bKbt6jaZFT0P"
      },
      "source": [
        "Sets can be implemented with BSTrees  \n",
        "insertion to BST is O(LogN)\n",
        "search O(N)\n"
      ]
    },
    {
      "cell_type": "markdown",
      "metadata": {
        "id": "8FA05XPfFplL"
      },
      "source": [
        "BST Traversal\n",
        "1. Breadth First Search\n",
        "2. Depth First Search\n",
        "    a. Pre order\n",
        "    b. In order\n",
        "    c. Post order"
      ]
    },
    {
      "cell_type": "code",
      "metadata": {
        "colab": {
          "base_uri": "https://localhost:8080/"
        },
        "id": "vko47eJhFYso",
        "outputId": "99b0bd6e-a778-4490-d545-a5454ecd9538"
      },
      "source": [
        "class BinarySearchTreeNode:\n",
        "  def __init__(self,data):\n",
        "    self.data = data\n",
        "    self.left = None\n",
        "    self.right = None\n",
        "\n",
        "  def insert_data(self,data):\n",
        "    if self.data == data:\n",
        "      print(\"Already has \",data,\" so ignoring\")\n",
        "      return\n",
        "    if data < self.data:\n",
        "      #add child to LST\n",
        "      if self.left:\n",
        "        # so left node exists so call the same recursively\n",
        "        self.left.insert_data(data)\n",
        "      else:\n",
        "        self.left = BinarySearchTreeNode(data)\n",
        "    else:\n",
        "      #add child to RST\n",
        "      if self.right:\n",
        "        self.right.insert_data(data)\n",
        "      else:\n",
        "        self.right = BinarySearchTreeNode(data)\n",
        "\n",
        "  def search(self, value):\n",
        "    if self.data == value:\n",
        "      return True\n",
        "    if value < self.data:\n",
        "      if self.left:\n",
        "        return self.left.search(value)\n",
        "      else:\n",
        "        return False\n",
        "    else:\n",
        "      if self.right:\n",
        "        return self.right.search(value)\n",
        "      else:\n",
        "        return False\n",
        "\n",
        "  def find_min(self):\n",
        "    if self.left:\n",
        "      return self.left.find_min()\n",
        "    return self.data\n",
        "  def find_max(self):\n",
        "    if self.right:\n",
        "      return self.right.find_max()\n",
        "    return self.data\n",
        "  def calculate_sum(self):\n",
        "    return sum(self.pre_order())\n",
        "  \n",
        "  def pre_order(self):\n",
        "    elements = []\n",
        "    elements.append(self.data)\n",
        "\n",
        "    if self.left:\n",
        "      elements +=(self.left.in_order())\n",
        "    \n",
        "    if self.right:\n",
        "      elements+=(self.right.in_order())\n",
        "    return elements\n",
        "\n",
        "  def in_order(self):\n",
        "    elements = []\n",
        "    if self.left:\n",
        "      elements +=(self.left.in_order())\n",
        "    elements.append(self.data)\n",
        "    if self.right:\n",
        "      elements+=(self.right.in_order())\n",
        "    return elements\n",
        "\n",
        "  def post_order(self):\n",
        "    elements = []\n",
        "    if self.left:\n",
        "      elements +=(self.left.in_order())\n",
        "    if self.right:\n",
        "      elements+=(self.right.in_order())\n",
        "    elements.append(self.data)\n",
        "    return elements\n",
        "\n",
        "  def is_leaf_node(self):\n",
        "    return not (self.left or self.right)\n",
        "  \n",
        "  def delete(self, value):\n",
        "    if value<self.data:\n",
        "      # search in LST\n",
        "      if self.left and value == self.left.data and self.left.is_leaf_node():\n",
        "        self.left = None\n",
        "        return\n",
        "      elif self.left:\n",
        "        return self.left.delete(value)\n",
        "      else:\n",
        "        print(value,\" not found in the tree [returning from LST]\")\n",
        "        return\n",
        "    elif value>self.data:\n",
        "      #search in RST\n",
        "      if self.right and value == self.right.data and self.right.is_leaf_node():\n",
        "        print(self.data)\n",
        "        print(self.right.data)\n",
        "        self.right = None\n",
        "        return\n",
        "      elif self.right:\n",
        "        print(\"not leaf \",self.right.data)\n",
        "        return self.right.delete(value)\n",
        "      else:\n",
        "        print(value,\" not found in the tree [returning from RST]\")\n",
        "        return\n",
        "    elif value==self.data:\n",
        "      element_to_swap = None\n",
        "      if self.left:\n",
        "        print(\"delete max from LST\")\n",
        "        element_to_swap = self.left.find_max()\n",
        "        self.delete(element_to_swap)\n",
        "        self.data = element_to_swap\n",
        "      elif self.right:\n",
        "        element_to_swap = self.right.find_min()\n",
        "        print(element_to_swap,\"delete min from RST\")\n",
        "        self.delete(element_to_swap)\n",
        "        self.data = element_to_swap\n",
        "      else:\n",
        "        self.data = None\n",
        "      return        \n",
        "\n",
        "  def opt_delete(self,value):\n",
        "    if value<self.data:\n",
        "      if self.left:\n",
        "        self.left = self.left.opt_delete(value)\n",
        "      else:\n",
        "        print(value,\" not found from LST\")\n",
        "    elif value>self.data:\n",
        "      if self.right:\n",
        "        self.right = self.right.opt_delete(value)\n",
        "      else:\n",
        "        print(value,\" not found from RST\")\n",
        "    else:\n",
        "      if self.left is None and self.right is None:\n",
        "        return None\n",
        "      if self.left is None:\n",
        "        return self.right\n",
        "      if self.right is None:\n",
        "        return self.left\n",
        "      min_val = self.right.find_min()\n",
        "      print(\"min = \",min_val)\n",
        "      self.data = min_val\n",
        "      self.right = self.right.opt_delete(min_val)\n",
        "    return self\n",
        "\n",
        "\n",
        "      \n",
        "\n",
        "  \n",
        "\n",
        "def build_tree(elements):\n",
        "  root = BinarySearchTreeNode(elements[0])\n",
        "  for i in range(1,len(elements)):\n",
        "    root.insert_data(elements[i])\n",
        "  return root\n",
        "\n",
        "if __name__==\"__main__\":\n",
        "  numbers = [19,2,8,7,5,19,18,6,3,1,20,25]\n",
        "  tree = build_tree(numbers)\n",
        "  print(tree.in_order())\n",
        "  print(\"Is 19 in BSTree? \",tree.search(19))\n",
        "  print(\"Is 20 in BSTree? \",tree.search(20))\n",
        "  print()\n",
        "  countries = [\"Germany\",\"France\",\"Barma\",\"china\",\"India\",\"USA\"]\n",
        "  countries_tree = build_tree(countries)\n",
        "  print(countries_tree.in_order())\n",
        "  print(\"Is Germany in BSTree? \",countries_tree.search(\"Germany\"))\n",
        "  print(\"Is UK in BSTree? \",countries_tree.search(\"UK\"))\n",
        "  print()\n",
        "  print(\"tree.find_min() = \",tree.find_min())\n",
        "  print(\"tree.find_max() = \",tree.find_max())\n",
        "  print(\"tree.calculate_sum() = \",tree.calculate_sum())\n",
        "  print(\"pre_porder = \",tree.pre_order())\n",
        "  print(\"in_porder = \",tree.in_order())\n",
        "  print(\"post_porder = \",tree.post_order())"
      ],
      "execution_count": 159,
      "outputs": [
        {
          "output_type": "stream",
          "text": [
            "Already has  19  so ignoring\n",
            "[1, 2, 3, 5, 6, 7, 8, 18, 19, 20, 25]\n",
            "Is 19 in BSTree?  True\n",
            "Is 20 in BSTree?  True\n",
            "\n",
            "['Barma', 'France', 'Germany', 'India', 'USA', 'china']\n",
            "Is Germany in BSTree?  True\n",
            "Is UK in BSTree?  False\n",
            "\n",
            "tree.find_min() =  1\n",
            "tree.find_max() =  25\n",
            "tree.calculate_sum() =  114\n",
            "pre_porder =  [19, 1, 2, 3, 5, 6, 7, 8, 18, 20, 25]\n",
            "in_porder =  [1, 2, 3, 5, 6, 7, 8, 18, 19, 20, 25]\n",
            "post_porder =  [1, 2, 3, 5, 6, 7, 8, 18, 20, 25, 19]\n"
          ],
          "name": "stdout"
        }
      ]
    },
    {
      "cell_type": "code",
      "metadata": {
        "id": "uAPPU7cuD3yP",
        "outputId": "21404778-1b54-4e70-fc13-c6e313479668",
        "colab": {
          "base_uri": "https://localhost:8080/"
        }
      },
      "source": [
        "numbers = [19,2,8,7,5,19,18,6,3,1,20,25]\n",
        "tree = build_tree(numbers)\n",
        "print(tree.in_order())"
      ],
      "execution_count": 186,
      "outputs": [
        {
          "output_type": "stream",
          "text": [
            "Already has  19  so ignoring\n",
            "[1, 2, 3, 5, 6, 7, 8, 18, 19, 20, 25]\n"
          ],
          "name": "stdout"
        }
      ]
    },
    {
      "cell_type": "code",
      "metadata": {
        "id": "62UzndDvVksw",
        "outputId": "f9449166-b23a-4a23-c81c-2257f1dd386e",
        "colab": {
          "base_uri": "https://localhost:8080/"
        }
      },
      "source": [
        "tree = tree.opt_delete(28)\n",
        "tree = tree.opt_delete(20)\n",
        "print(tree.in_order())"
      ],
      "execution_count": 187,
      "outputs": [
        {
          "output_type": "stream",
          "text": [
            "28  not found from RST\n",
            "[1, 2, 3, 5, 6, 7, 8, 18, 19, 25]\n"
          ],
          "name": "stdout"
        }
      ]
    },
    {
      "cell_type": "code",
      "metadata": {
        "id": "lGYdkXfNV7Cg",
        "outputId": "44be3f9c-835f-4dbd-8835-5a7a069c71a3",
        "colab": {
          "base_uri": "https://localhost:8080/"
        }
      },
      "source": [
        "tree = tree.opt_delete(1)\n",
        "print(tree.in_order())"
      ],
      "execution_count": 188,
      "outputs": [
        {
          "output_type": "stream",
          "text": [
            "[2, 3, 5, 6, 7, 8, 18, 19, 25]\n"
          ],
          "name": "stdout"
        }
      ]
    },
    {
      "cell_type": "code",
      "metadata": {
        "id": "YG3H8CvqWAuo",
        "outputId": "2ced5f9d-d6de-4cfd-ec86-eb51eb196248",
        "colab": {
          "base_uri": "https://localhost:8080/"
        }
      },
      "source": [
        "tree = tree.opt_delete(3)\n",
        "print(tree.in_order())"
      ],
      "execution_count": 189,
      "outputs": [
        {
          "output_type": "stream",
          "text": [
            "[2, 5, 6, 7, 8, 18, 19, 25]\n"
          ],
          "name": "stdout"
        }
      ]
    },
    {
      "cell_type": "code",
      "metadata": {
        "id": "D0iFe_ZgZO1S",
        "outputId": "c3d150a4-5614-4138-d2f2-82e0be46eafa",
        "colab": {
          "base_uri": "https://localhost:8080/"
        }
      },
      "source": [
        "tree = tree.opt_delete(2)\n",
        "print(tree.in_order())"
      ],
      "execution_count": 190,
      "outputs": [
        {
          "output_type": "stream",
          "text": [
            "[5, 6, 7, 8, 18, 19, 25]\n"
          ],
          "name": "stdout"
        }
      ]
    },
    {
      "cell_type": "code",
      "metadata": {
        "id": "cM-ut9WNZUjf",
        "outputId": "aa0ebf19-5270-4875-8c08-9a062caf8161",
        "colab": {
          "base_uri": "https://localhost:8080/"
        }
      },
      "source": [
        "tree = tree.opt_delete(5)\n",
        "print(tree.in_order())\n",
        "print(tree.pre_order())"
      ],
      "execution_count": 191,
      "outputs": [
        {
          "output_type": "stream",
          "text": [
            "[6, 7, 8, 18, 19, 25]\n",
            "[19, 6, 7, 8, 18, 25]\n"
          ],
          "name": "stdout"
        }
      ]
    },
    {
      "cell_type": "code",
      "metadata": {
        "id": "5t79DMcoZWBz",
        "outputId": "174b181a-40c8-477e-f9b5-168a3a75850c",
        "colab": {
          "base_uri": "https://localhost:8080/"
        }
      },
      "source": [
        "tree = tree.opt_delete(19)\n",
        "print(tree.in_order())\n",
        "print(tree.pre_order())"
      ],
      "execution_count": 192,
      "outputs": [
        {
          "output_type": "stream",
          "text": [
            "min =  25\n",
            "[6, 7, 8, 18, 25]\n",
            "[25, 6, 7, 8, 18]\n"
          ],
          "name": "stdout"
        }
      ]
    },
    {
      "cell_type": "code",
      "metadata": {
        "id": "dcVM-pMFZYnG",
        "outputId": "e689c482-298a-4544-9e66-fc5d5f3098a0",
        "colab": {
          "base_uri": "https://localhost:8080/"
        }
      },
      "source": [
        "tree = tree.opt_delete(25)\n",
        "print(tree.in_order())"
      ],
      "execution_count": 193,
      "outputs": [
        {
          "output_type": "stream",
          "text": [
            "[6, 7, 8, 18]\n"
          ],
          "name": "stdout"
        }
      ]
    },
    {
      "cell_type": "code",
      "metadata": {
        "id": "EmgE2K65ZbD5",
        "outputId": "47434aac-f1e0-4608-c05a-1ddcd7518914",
        "colab": {
          "base_uri": "https://localhost:8080/"
        }
      },
      "source": [
        "tree = tree.opt_delete(8)\n",
        "print(tree.in_order())\n",
        "print(tree.pre_order())"
      ],
      "execution_count": 194,
      "outputs": [
        {
          "output_type": "stream",
          "text": [
            "min =  18\n",
            "[6, 7, 18]\n",
            "[18, 6, 7]\n"
          ],
          "name": "stdout"
        }
      ]
    },
    {
      "cell_type": "code",
      "metadata": {
        "id": "wLMx_hQgZkd2",
        "outputId": "5e0410f1-9d63-4605-dc3c-75946d0313f5",
        "colab": {
          "base_uri": "https://localhost:8080/"
        }
      },
      "source": [
        "tree = tree.opt_delete(6)\n",
        "print(tree.in_order())\n",
        "print(tree.pre_order())"
      ],
      "execution_count": 195,
      "outputs": [
        {
          "output_type": "stream",
          "text": [
            "[7, 18]\n",
            "[18, 7]\n"
          ],
          "name": "stdout"
        }
      ]
    },
    {
      "cell_type": "code",
      "metadata": {
        "id": "BFQuPFUXZmU9",
        "outputId": "ac902828-339e-4265-8883-cbe3aaa779f7",
        "colab": {
          "base_uri": "https://localhost:8080/"
        }
      },
      "source": [
        "tree1 = tree.opt_delete(18)\n",
        "print(tree1.in_order())"
      ],
      "execution_count": 197,
      "outputs": [
        {
          "output_type": "stream",
          "text": [
            "[7]\n"
          ],
          "name": "stdout"
        }
      ]
    },
    {
      "cell_type": "code",
      "metadata": {
        "id": "A4bgxYFsZpiM",
        "outputId": "514f2f6a-2c1e-4989-871a-aea01fd34902",
        "colab": {
          "base_uri": "https://localhost:8080/",
          "height": 193
        }
      },
      "source": [
        "tree1 = tree1.opt_delete(7)\n",
        "print(tree1.in_order())"
      ],
      "execution_count": 198,
      "outputs": [
        {
          "output_type": "error",
          "ename": "AttributeError",
          "evalue": "ignored",
          "traceback": [
            "\u001b[0;31m---------------------------------------------------------------------------\u001b[0m",
            "\u001b[0;31mAttributeError\u001b[0m                            Traceback (most recent call last)",
            "\u001b[0;32m<ipython-input-198-6bcc1603c179>\u001b[0m in \u001b[0;36m<module>\u001b[0;34m()\u001b[0m\n\u001b[1;32m      1\u001b[0m \u001b[0mtree1\u001b[0m \u001b[0;34m=\u001b[0m \u001b[0mtree1\u001b[0m\u001b[0;34m.\u001b[0m\u001b[0mopt_delete\u001b[0m\u001b[0;34m(\u001b[0m\u001b[0;36m7\u001b[0m\u001b[0;34m)\u001b[0m\u001b[0;34m\u001b[0m\u001b[0;34m\u001b[0m\u001b[0m\n\u001b[0;32m----> 2\u001b[0;31m \u001b[0mprint\u001b[0m\u001b[0;34m(\u001b[0m\u001b[0mtree1\u001b[0m\u001b[0;34m.\u001b[0m\u001b[0min_order\u001b[0m\u001b[0;34m(\u001b[0m\u001b[0;34m)\u001b[0m\u001b[0;34m)\u001b[0m\u001b[0;34m\u001b[0m\u001b[0;34m\u001b[0m\u001b[0m\n\u001b[0m",
            "\u001b[0;31mAttributeError\u001b[0m: 'NoneType' object has no attribute 'in_order'"
          ]
        }
      ]
    }
  ]
}