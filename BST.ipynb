{
  "nbformat": 4,
  "nbformat_minor": 0,
  "metadata": {
    "colab": {
      "name": "BST.ipynb",
      "provenance": [],
      "authorship_tag": "ABX9TyPK3VQ+/veJYLTV/Ih0wadJ",
      "include_colab_link": true
    },
    "kernelspec": {
      "name": "python3",
      "display_name": "Python 3"
    },
    "language_info": {
      "name": "python"
    }
  },
  "cells": [
    {
      "cell_type": "markdown",
      "metadata": {
        "id": "view-in-github",
        "colab_type": "text"
      },
      "source": [
        "<a href=\"https://colab.research.google.com/github/Sambasivarao77/Python-Programs/blob/main/BST.ipynb\" target=\"_parent\"><img src=\"https://colab.research.google.com/assets/colab-badge.svg\" alt=\"Open In Colab\"/></a>"
      ]
    },
    {
      "cell_type": "markdown",
      "metadata": {
        "id": "bKbt6jaZFT0P"
      },
      "source": [
        "Sets can be implemented with BSTrees  \n",
        "insertion to BST is O(LogN)\n",
        "search O(N)\n"
      ]
    },
    {
      "cell_type": "markdown",
      "metadata": {
        "id": "8FA05XPfFplL"
      },
      "source": [
        "BST Traversal\n",
        "1. Breadth First Search\n",
        "2. Depth First Search\n",
        "    a. Pre order\n",
        "    b. In order\n",
        "    c. Post order"
      ]
    },
    {
      "cell_type": "code",
      "metadata": {
        "colab": {
          "base_uri": "https://localhost:8080/"
        },
        "id": "vko47eJhFYso",
        "outputId": "cae76ad9-0296-4e9d-e810-234fd12679c3"
      },
      "source": [
        "class BinarySearchTreeNode:\n",
        "  def __init__(self,data):\n",
        "    self.data = data\n",
        "    self.left = None\n",
        "    self.right = None\n",
        "\n",
        "  def insert_data(self,data):\n",
        "    if self.data == data:\n",
        "      print(\"Already has \",data,\" so ignoring\")\n",
        "      return\n",
        "    if data < self.data:\n",
        "      #add child to LST\n",
        "      if self.left:\n",
        "        # so left node exists so call the same recursively\n",
        "        self.left.insert_data(data)\n",
        "      else:\n",
        "        self.left = BinarySearchTreeNode(data)\n",
        "    else:\n",
        "      #add child to RST\n",
        "      if self.right:\n",
        "        self.right.insert_data(data)\n",
        "      else:\n",
        "        self.right = BinarySearchTreeNode(data)\n",
        "\n",
        "  def search(self, value):\n",
        "    if self.data == value:\n",
        "      return True\n",
        "    if value < self.data:\n",
        "      if self.left:\n",
        "        return self.left.search(value)\n",
        "      else:\n",
        "        return False\n",
        "    else:\n",
        "      if self.right:\n",
        "        return self.right.search(value)\n",
        "      else:\n",
        "        return False\n",
        "\n",
        "  def find_min(self):\n",
        "    if self.left:\n",
        "      return self.left.find_min()\n",
        "    return self.data\n",
        "  def find_max(self):\n",
        "    if self.right:\n",
        "      return self.right.find_max()\n",
        "    return self.data\n",
        "  def calculate_sum(self):\n",
        "    return sum(self.pre_order())\n",
        "  \n",
        "  def pre_order(self):\n",
        "    elements = []\n",
        "    elements.append(self.data)\n",
        "\n",
        "    if self.left:\n",
        "      elements +=(self.left.in_order())\n",
        "    \n",
        "    if self.right:\n",
        "      elements+=(self.right.in_order())\n",
        "    return elements\n",
        "\n",
        "  def in_order(self):\n",
        "    elements = []\n",
        "    if self.left:\n",
        "      elements +=(self.left.in_order())\n",
        "    elements.append(self.data)\n",
        "    if self.right:\n",
        "      elements+=(self.right.in_order())\n",
        "    return elements\n",
        "\n",
        "  def post_order(self):\n",
        "    elements = []\n",
        "    if self.left:\n",
        "      elements +=(self.left.in_order())\n",
        "    if self.right:\n",
        "      elements+=(self.right.in_order())\n",
        "    elements.append(self.data)\n",
        "    return elements\n",
        "\n",
        "  \n",
        "\n",
        "def build_tree(elements):\n",
        "  root = BinarySearchTreeNode(elements[0])\n",
        "  for i in range(1,len(elements)):\n",
        "    root.insert_data(elements[i])\n",
        "  return root\n",
        "\n",
        "if __name__==\"__main__\":\n",
        "  numbers = [19,2,8,7,5,19,18,6,3,1,20,25]\n",
        "  tree = build_tree(numbers)\n",
        "  print(tree.in_order())\n",
        "  print(\"Is 19 in BSTree? \",tree.search(19))\n",
        "  print(\"Is 20 in BSTree? \",tree.search(20))\n",
        "  print()\n",
        "  countries = [\"Germany\",\"France\",\"Barma\",\"china\",\"India\",\"USA\"]\n",
        "  countries_tree = build_tree(countries)\n",
        "  print(countries_tree.in_order())\n",
        "  print(\"Is Germany in BSTree? \",countries_tree.search(\"Germany\"))\n",
        "  print(\"Is UK in BSTree? \",countries_tree.search(\"UK\"))\n",
        "  print()\n",
        "  print(\"tree.find_min() = \",tree.find_min())\n",
        "  print(\"tree.find_max() = \",tree.find_max())\n",
        "  print(\"tree.calculate_sum() = \",tree.calculate_sum())\n",
        "  print(\"pre_porder = \",tree.pre_order())\n",
        "  print(\"in_porder = \",tree.in_order())\n",
        "  print(\"post_porder = \",tree.post_order())"
      ],
      "execution_count": 11,
      "outputs": [
        {
          "output_type": "stream",
          "text": [
            "Already has  19  so ignoring\n",
            "[1, 2, 3, 5, 6, 7, 8, 18, 19, 20, 25]\n",
            "Is 19 in BSTree?  True\n",
            "Is 20 in BSTree?  True\n",
            "\n",
            "['Barma', 'France', 'Germany', 'India', 'USA', 'china']\n",
            "Is Germany in BSTree?  True\n",
            "Is UK in BSTree?  False\n",
            "\n",
            "tree.find_min() =  1\n",
            "tree.find_max() =  25\n",
            "tree.calculate_sum() =  114\n",
            "pre_porder =  [19, 1, 2, 3, 5, 6, 7, 8, 18, 20, 25]\n",
            "in_porder =  [1, 2, 3, 5, 6, 7, 8, 18, 19, 20, 25]\n",
            "post_porder =  [1, 2, 3, 5, 6, 7, 8, 18, 20, 25, 19]\n"
          ],
          "name": "stdout"
        }
      ]
    },
    {
      "cell_type": "code",
      "metadata": {
        "id": "uAPPU7cuD3yP"
      },
      "source": [
        ""
      ],
      "execution_count": null,
      "outputs": []
    }
  ]
}