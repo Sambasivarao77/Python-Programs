{
  "nbformat": 4,
  "nbformat_minor": 0,
  "metadata": {
    "colab": {
      "name": "Trees.ipynb",
      "provenance": [],
      "collapsed_sections": [],
      "authorship_tag": "ABX9TyPVHzT0a65P/J1gQhXAYp0u",
      "include_colab_link": true
    },
    "kernelspec": {
      "name": "python3",
      "display_name": "Python 3"
    },
    "language_info": {
      "name": "python"
    }
  },
  "cells": [
    {
      "cell_type": "markdown",
      "metadata": {
        "id": "view-in-github",
        "colab_type": "text"
      },
      "source": [
        "<a href=\"https://colab.research.google.com/github/Sambasivarao77/Python-Programs/blob/main/Trees.ipynb\" target=\"_parent\"><img src=\"https://colab.research.google.com/assets/colab-badge.svg\" alt=\"Open In Colab\"/></a>"
      ]
    },
    {
      "cell_type": "code",
      "metadata": {
        "id": "CUSqe478ikh1",
        "colab": {
          "base_uri": "https://localhost:8080/"
        },
        "outputId": "7fc50053-4b90-4eb3-a78b-1183518f3a41"
      },
      "source": [
        "class TreeNode:\n",
        "  def __init__(self,data):\n",
        "    self.data= data\n",
        "    self.children = []\n",
        "    self.parent = None\n",
        "\n",
        "  def add_child(self,child):\n",
        "    self.children.append(child)\n",
        "    child.parent = self\n",
        "\n",
        "  def get_level(self):\n",
        "    level = 0\n",
        "    p = self.parent\n",
        "    while p:\n",
        "      level +=1\n",
        "      p = p.parent\n",
        "    return level\n",
        "  \n",
        "  def print_tree_with_level(self):\n",
        "    spaces = self.get_level()*\" \"*4 +\"|__\" if self.parent else \"\"\n",
        "    print(spaces+self.data)\n",
        "    for child in self.children:\n",
        "      child.print_tree_with_level()\n",
        "'''\n",
        "  def print_tree(self, spaces = 0):\n",
        "    print(+self.data)\n",
        "    prefix = \"|__\" if spaces == 0\n",
        "    for child in self.children:\n",
        "      spaces =+1\n",
        "      child.print_tree(spaces) \n",
        "'''\n",
        "def build_tree():\n",
        "  root = TreeNode(\"Electrnoics\")\n",
        "  \n",
        "  laptop = TreeNode(\"Laptop\")\n",
        "  cell_phone = TreeNode(\"Cell phone\") \n",
        "  tv = TreeNode(\"TV\")\n",
        "  \n",
        "  laptop.add_child(TreeNode(\"Mac\"))\n",
        "  laptop.add_child(TreeNode(\"Surface\"))\n",
        "  laptop.add_child(TreeNode(\"Thinkpad\"))\n",
        "\n",
        "  cell_phone.add_child(TreeNode(\"iPhone\"))\n",
        "  cell_phone.add_child(TreeNode(\"Google pixel\"))\n",
        "  cell_phone.add_child(TreeNode(\"Vivo\"))\n",
        "\n",
        "  tv.add_child(TreeNode(\"Samsung\"))\n",
        "  tv.add_child(TreeNode(\"LG\"))\n",
        "\n",
        "  root.add_child(laptop)\n",
        "  root.add_child(cell_phone)\n",
        "  root.add_child(tv)\n",
        "\n",
        "  return root\n",
        "\n",
        "if __name__==\"__main__\":\n",
        "  root = build_tree()\n",
        "  root.print_tree_with_level()\n",
        "  print()\n",
        "  #root.print_tree()"
      ],
      "execution_count": 7,
      "outputs": [
        {
          "output_type": "stream",
          "text": [
            "Electrnoics\n",
            "    |__Laptop\n",
            "        |__Mac\n",
            "        |__Surface\n",
            "        |__Thinkpad\n",
            "    |__Cell phone\n",
            "        |__iPhone\n",
            "        |__Google pixel\n",
            "        |__Vivo\n",
            "    |__TV\n",
            "        |__Samsung\n",
            "        |__LG\n",
            "\n"
          ],
          "name": "stdout"
        }
      ]
    },
    {
      "cell_type": "code",
      "metadata": {
        "colab": {
          "base_uri": "https://localhost:8080/"
        },
        "id": "5sPuk79Owh0P",
        "outputId": "bed75c81-6426-49d4-95b3-2415c162d60f"
      },
      "source": [
        "class TreeNode:\n",
        "  def __init__(self,data):\n",
        "    self.data= data\n",
        "    self.children = []\n",
        "    self.parent = None\n",
        "\n",
        "  def add_child(self,child):\n",
        "    self.children.append(child)\n",
        "    child.parent = self\n",
        "\n",
        "  def get_level(self):\n",
        "    level = 0\n",
        "    p = self.parent\n",
        "    while p:\n",
        "      level +=1\n",
        "      p = p.parent\n",
        "    return level\n",
        "  \n",
        "  def print_tree_with_level(self,strr):\n",
        "    spaces = self.get_level()*\" \"*4 +\"|__\" if self.parent else \"\"\n",
        "    if strr == \"both\":\n",
        "      print(spaces+self.data[0]+\" (\"+self.data[1]+\")\")\n",
        "    elif strr == \"name\":\n",
        "      print(spaces+self.data[0])\n",
        "    elif strr == \"designation\":\n",
        "      print(spaces+self.data[1])\n",
        "    for child in self.children:\n",
        "      child.print_tree_with_level(strr)\n",
        "\n",
        "def build_tree():\n",
        "  root = TreeNode([\"Nilupul\",\"CEO\"])\n",
        "  \n",
        "  ch = TreeNode([\"Chinmay\",\"CTO\"])\n",
        "\n",
        "  visw = TreeNode([\"Vishwa\",\"Infrastructure Head\"])\n",
        "  visw.add_child(TreeNode([\"Dhaval\",\"Cloud Manager\"]))\n",
        "  visw.add_child(TreeNode([\"Abhijit\",\"App Manager\"]))\n",
        "  ch.add_child(visw)\n",
        "  ch.add_child(TreeNode([\"Aamir\",\"Aplication Head\"]))\n",
        "  \n",
        "  gels = TreeNode([\"Gels\",\"HR Head\"])\n",
        "  gels.add_child(TreeNode([\"Peter\",\"Recruiment Manager\"]))\n",
        "  gels.add_child(TreeNode([\"Waqas\",\"Policy Manager\"]))\n",
        "\n",
        "  root.add_child(ch)\n",
        "  root.add_child(gels)\n",
        "\n",
        "  return root\n",
        "\n",
        "if __name__==\"__main__\":\n",
        "  root_node = build_tree()\n",
        "  root_node.print_tree_with_level(\"name\") # prints only name hierarchy\n",
        "  root_node.print_tree_with_level(\"designation\") # prints only designation hierarchy\n",
        "  root_node.print_tree_with_level(\"both\") # prints both (name and designation) hierarchy\n",
        "  "
      ],
      "execution_count": 14,
      "outputs": [
        {
          "output_type": "stream",
          "text": [
            "Nilupul\n",
            "    |__Chinmay\n",
            "        |__Vishwa\n",
            "            |__Dhaval\n",
            "            |__Abhijit\n",
            "        |__Aamir\n",
            "    |__Gels\n",
            "        |__Peter\n",
            "        |__Waqas\n",
            "CEO\n",
            "    |__CTO\n",
            "        |__Infrastructure Head\n",
            "            |__Cloud Manager\n",
            "            |__App Manager\n",
            "        |__Aplication Head\n",
            "    |__HR Head\n",
            "        |__Recruiment Manager\n",
            "        |__Policy Manager\n",
            "Nilupul (CEO)\n",
            "    |__Chinmay (CTO)\n",
            "        |__Vishwa (Infrastructure Head)\n",
            "            |__Dhaval (Cloud Manager)\n",
            "            |__Abhijit (App Manager)\n",
            "        |__Aamir (Aplication Head)\n",
            "    |__Gels (HR Head)\n",
            "        |__Peter (Recruiment Manager)\n",
            "        |__Waqas (Policy Manager)\n"
          ],
          "name": "stdout"
        }
      ]
    }
  ]
}