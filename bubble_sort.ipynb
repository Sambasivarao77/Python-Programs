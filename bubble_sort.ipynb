{
  "nbformat": 4,
  "nbformat_minor": 0,
  "metadata": {
    "colab": {
      "name": "bubble_sort.ipynb",
      "provenance": [],
      "authorship_tag": "ABX9TyOC+zNz3++C8PDc+EWa89Pj",
      "include_colab_link": true
    },
    "kernelspec": {
      "name": "python3",
      "display_name": "Python 3"
    },
    "language_info": {
      "name": "python"
    }
  },
  "cells": [
    {
      "cell_type": "markdown",
      "metadata": {
        "id": "view-in-github",
        "colab_type": "text"
      },
      "source": [
        "<a href=\"https://colab.research.google.com/github/Sambasivarao77/Python-Programs/blob/main/bubble_sort.ipynb\" target=\"_parent\"><img src=\"https://colab.research.google.com/assets/colab-badge.svg\" alt=\"Open In Colab\"/></a>"
      ]
    },
    {
      "cell_type": "code",
      "metadata": {
        "colab": {
          "base_uri": "https://localhost:8080/"
        },
        "id": "AxflVa5sA4pa",
        "outputId": "bf32d0c7-fdc9-49a2-8f7e-62ed2310bc47"
      },
      "source": [
        "# you can use this to sort strings too\n",
        "def bubble_sort(elements):\n",
        "    size = len(elements)\n",
        "\n",
        "    for i in range(size-1):\n",
        "        swapped = False\n",
        "        for j in range(size-1-i):\n",
        "            if elements[j] > elements[j+1]:\n",
        "                tmp = elements[j]\n",
        "                elements[j] = elements[j+1]\n",
        "                elements[j+1] = tmp\n",
        "                swapped = True\n",
        "\n",
        "        if not swapped:\n",
        "            break\n",
        "\n",
        "\n",
        "if __name__ == '__main__':\n",
        "    elements = [5,9,2,1,67,34,88,34]\n",
        "    elements = [1,2,3,4,2]\n",
        "    elements = [\"mona\", \"dhaval\", \"aamir\", \"tina\", \"chang\"]\n",
        "\n",
        "    bubble_sort(elements)\n",
        "    print(elements)"
      ],
      "execution_count": 1,
      "outputs": [
        {
          "output_type": "stream",
          "text": [
            "['aamir', 'chang', 'dhaval', 'mona', 'tina']\n"
          ],
          "name": "stdout"
        }
      ]
    },
    {
      "cell_type": "markdown",
      "metadata": {
        "id": "_0E6tb4pBarC"
      },
      "source": [
        "```\n",
        "Modify bubble_sort function such that it can sort following list of transactions happening in an electronic store,\n",
        "elements = [\n",
        "        { 'name': 'mona',   'transaction_amount': 1000, 'device': 'iphone-10'},\n",
        "        { 'name': 'dhaval', 'transaction_amount': 400,  'device': 'google pixel'},\n",
        "        { 'name': 'kathy',  'transaction_amount': 200,  'device': 'vivo'},\n",
        "        { 'name': 'aamir',  'transaction_amount': 800,  'device': 'iphone-8'},\n",
        "    ]\n",
        "\n",
        "bubble_sort function should take key from a transaction record and sort the list as per that key. For example,\n",
        "\n",
        "bubble_sort(elements, key='transaction_amount')\n",
        "\n",
        "This will sort elements by transaction_amount and your sorted list will look like,\n",
        "\n",
        "elements = [\n",
        "        { 'name': 'kathy',  'transaction_amount': 200,  'device': 'vivo'},\n",
        "        { 'name': 'dhaval', 'transaction_amount': 400,  'device': 'google pixel'},\n",
        "        { 'name': 'aamir',  'transaction_amount': 800,  'device': 'iphone-8'},\n",
        "        { 'name': 'mona',   'transaction_amount': 1000, 'device': 'iphone-10'},\n",
        "    ]\n",
        "\n",
        "But if you call it like this,\n",
        "\n",
        "bubble_sort(elements, key='name')\n",
        "\n",
        "output will be,\n",
        "\n",
        "elements = [\n",
        "        { 'name': 'aamir',  'transaction_amount': 800,  'device': 'iphone-8'},\n",
        "        { 'name': 'dhaval', 'transaction_amount': 400,  'device': 'google pixel'},\n",
        "        { 'name': 'kathy',  'transaction_amount': 200,  'device': 'vivo'},\n",
        "        { 'name': 'mona',   'transaction_amount': 1000, 'device': 'iphone-10'},\n",
        "    ]\n",
        "```"
      ]
    },
    {
      "cell_type": "code",
      "metadata": {
        "colab": {
          "base_uri": "https://localhost:8080/"
        },
        "id": "7osRJeBeBZqv",
        "outputId": "2c7cc151-becd-49fa-b387-02936476db0d"
      },
      "source": [
        "# you can use this to sort strings too\n",
        "def bubble_sort(elements,key):\n",
        "    size = len(elements)\n",
        "\n",
        "    for i in range(size-1):\n",
        "        swapped = False\n",
        "        for j in range(size-1-i):\n",
        "            if elements[j][key] > elements[j+1][key]:\n",
        "                tmp = elements[j]\n",
        "                elements[j] = elements[j+1]\n",
        "                elements[j+1] = tmp\n",
        "                swapped = True\n",
        "\n",
        "        if not swapped:\n",
        "            break\n",
        "\n",
        "\n",
        "if __name__ == '__main__':\n",
        "    elements = [\n",
        "        { 'name': 'mona',   'transaction_amount': 1000, 'device': 'iphone-10'},\n",
        "        { 'name': 'dhaval', 'transaction_amount': 400,  'device': 'google pixel'},\n",
        "        { 'name': 'kathy',  'transaction_amount': 200,  'device': 'vivo'},\n",
        "        { 'name': 'aamir',  'transaction_amount': 800,  'device': 'iphone-8'},\n",
        "    ]\n",
        "    key_to_sort = \"device\"\n",
        "    bubble_sort(elements,key_to_sort)\n",
        "    for element in elements:\n",
        "      print(element)"
      ],
      "execution_count": 6,
      "outputs": [
        {
          "output_type": "stream",
          "text": [
            "{'name': 'dhaval', 'transaction_amount': 400, 'device': 'google pixel'}\n",
            "{'name': 'mona', 'transaction_amount': 1000, 'device': 'iphone-10'}\n",
            "{'name': 'aamir', 'transaction_amount': 800, 'device': 'iphone-8'}\n",
            "{'name': 'kathy', 'transaction_amount': 200, 'device': 'vivo'}\n"
          ],
          "name": "stdout"
        }
      ]
    }
  ]
}